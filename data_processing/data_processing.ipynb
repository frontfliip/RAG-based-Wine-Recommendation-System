{
 "nbformat": 4,
 "nbformat_minor": 0,
 "metadata": {
  "colab": {
   "provenance": []
  },
  "kernelspec": {
   "name": "python3",
   "display_name": "Python 3"
  },
  "language_info": {
   "name": "python"
  }
 },
 "cells": [
  {
   "cell_type": "code",
   "source": [
    "import pandas as pd"
   ],
   "metadata": {
    "id": "gIc5GzScdI9J"
   },
   "execution_count": 1,
   "outputs": []
  },
  {
   "cell_type": "code",
   "source": [
    "df_initial = pd.read_csv(\"/content/winemag-data-130k-v2.csv\") #change the path\n",
    "df_reviews = pd.read_csv('/content/scraped_reviews_final.csv') #change the path"
   ],
   "metadata": {
    "id": "EeVKEA2jgalx"
   },
   "execution_count": 6,
   "outputs": []
  },
  {
   "cell_type": "code",
   "source": [
    "df_reviews = df_reviews.drop_duplicates(subset='id', keep='first')\n",
    "print(\"Merged DataFrame shape after dropping dubs:\", df_reviews.shape)"
   ],
   "metadata": {
    "id": "JiOMKQYhgyOu",
    "colab": {
     "base_uri": "https://localhost:8080/"
    },
    "outputId": "6bcae062-a406-43f8-bd9f-a988c9f11697"
   },
   "execution_count": 7,
   "outputs": [
    {
     "output_type": "stream",
     "name": "stdout",
     "text": [
      "Merged DataFrame shape after dropping dubs: (6300, 14)\n"
     ]
    }
   ]
  },
  {
   "cell_type": "markdown",
   "source": [
    "You may notice that is lacks 13 wines from the number provided in the thesis. It is due to manuall addition of 13 wines from Moldova (mum asked)"
   ],
   "metadata": {
    "id": "8Rd3JSwAkNUr"
   }
  },
  {
   "cell_type": "code",
   "source": [
    "final_df = df_reviews.merge(df_initial, how='left', on='title')\n",
    "final_df = final_df.drop_duplicates(subset='title', keep='first')\n",
    "print(final_df.shape)"
   ],
   "metadata": {
    "id": "YCWTEfDfg2An",
    "colab": {
     "base_uri": "https://localhost:8080/"
    },
    "outputId": "c094dd8c-3a7a-4026-e194-27d9d796b345"
   },
   "execution_count": 8,
   "outputs": [
    {
     "output_type": "stream",
     "name": "stdout",
     "text": [
      "(6300, 27)\n"
     ]
    }
   ]
  },
  {
   "cell_type": "code",
   "source": [
    "def extract_vintage_from_title(df, title_col='title'):\n",
    "    df['vintage'] = df[title_col].str.extract(r'(\\b\\d{4}\\b)', expand=False)\n",
    "\n",
    "    df['vintage'] = pd.to_numeric(df['vintage'], errors='coerce')\n",
    "\n",
    "    return df\n",
    "\n",
    "final_df = extract_vintage_from_title(final_df)\n",
    "final_df['vintage'].hist(bins=40)"
   ],
   "metadata": {
    "colab": {
     "base_uri": "https://localhost:8080/",
     "height": 447
    },
    "id": "tggRRR1VdRZy",
    "outputId": "123258a7-23a1-457c-f389-1fc2652a54a8"
   },
   "execution_count": 9,
   "outputs": [
    {
     "output_type": "execute_result",
     "data": {
      "text/plain": [
       "<Axes: >"
      ]
     },
     "metadata": {},
     "execution_count": 9
    },
    {
     "output_type": "display_data",
     "data": {
      "text/plain": [
       "<Figure size 640x480 with 1 Axes>"
      ],
      "image/png": "[encoded data removed]"
     },
     "metadata": {}
    }
   ]
  },
  {
   "cell_type": "code",
   "source": [
    "variety_to_color = {\n",
    "    'Pinot Noir': 'Red',\n",
    "    'Chardonnay': 'White',\n",
    "    'Cabernet Sauvignon': 'Red',\n",
    "    'Red Blend': 'Red',\n",
    "    'Nebbiolo': 'Red',\n",
    "    'Riesling': 'White',\n",
    "    'Syrah': 'Red',\n",
    "    'Rosé': 'Rosé',\n",
    "    'Malbec': 'Red',\n",
    "    'Zinfandel': 'Red',\n",
    "    'Tempranillo': 'Red',\n",
    "    'Bordeaux-style Red Blend': 'Red',\n",
    "    'Sangiovese': 'Red',\n",
    "    'Sauvignon Blanc': 'White',\n",
    "    'Shiraz': 'Red',\n",
    "    'Cabernet Franc': 'Red',\n",
    "    'Gamay': 'Red',\n",
    "    'Pinot Gris': 'White',\n",
    "    'Merlot': 'Red',\n",
    "    'Tempranillo Blend': 'Red',\n",
    "    'Gewürztraminer': 'White',\n",
    "    'White Blend': 'White',\n",
    "    'Champagne Blend': 'White',\n",
    "    'Barbera': 'Red',\n",
    "    'Grenache': 'Red',\n",
    "    'Melon': 'White',\n",
    "    'Viognier': 'White',\n",
    "    'Garnacha': 'Red',\n",
    "    'Petite Sirah': 'Red',\n",
    "    'Chenin Blanc': 'White',\n",
    "    'Bordeaux-style White Blend': 'White',\n",
    "    'Verdicchio': 'White',\n",
    "    'Tinta de Toro': 'Red',\n",
    "    'Turbiana': 'White',\n",
    "    'Garganega': 'White',\n",
    "    'Aglianico': 'Red',\n",
    "    'Glera': 'White',\n",
    "    'Pinot Grigio': 'White',\n",
    "    'Albariño': 'White',\n",
    "    'Vernaccia': 'White',\n",
    "    'Pinot Blanc': 'White',\n",
    "    'Torrontés': 'White',\n",
    "    'Petit Verdot': 'Red',\n",
    "    \"Nero d'Avola\": 'Red',\n",
    "    'Mourvèdre': 'Red',\n",
    "    'Tinto Fino': 'Red',\n",
    "    'Moscato': 'White',\n",
    "    'Sauvignon': 'White',\n",
    "    'Rhône-style Red Blend': 'Red',\n",
    "    'Primitivo': 'Red',\n",
    "    'Verdejo': 'White',\n",
    "    'Mencía': 'Red',\n",
    "    'Grüner Veltliner': 'White',\n",
    "    'Meritage': 'Red',\n",
    "    'Sparkling Blend': 'White',\n",
    "    'Montepulciano': 'Red',\n",
    "    'Greco': 'White',\n",
    "    'Bonarda': 'Red',\n",
    "    'Fiano': 'White',\n",
    "    'Arneis': 'White',\n",
    "    'Vermentino': 'White',\n",
    "    'Grenache Blanc': 'White',\n",
    "    'Muscat': \"Red, White\",\n",
    "    'Pinot Bianco': 'White',\n",
    "    'Nerello Mascalese': 'Red',\n",
    "    'Monastrell': 'Red',\n",
    "    'Petit Manseng': 'White',\n",
    "    'Sémillon': 'White',\n",
    "    'Grillo': 'White',\n",
    "    'Lagrein': 'Red',\n",
    "    'Sylvaner': 'White',\n",
    "    'Dolcetto': 'Red',\n",
    "    'Sagrantino': 'Red',\n",
    "    'Rosato': 'Rosé',\n",
    "    'Lambrusco di Sorbara': 'Red',\n",
    "    'Gros and Petit Manseng': 'White',\n",
    "    'Cinsault': 'Red',\n",
    "    'Negroamaro': 'Red',\n",
    "    'Rhône-style White Blend': 'White',\n",
    "    'Frappato': 'Red',\n",
    "    'Pinot Nero': 'Red',\n",
    "    'Cortese': 'White',\n",
    "    'Teroldego': 'Red',\n",
    "    'Xarel-lo': 'White',\n",
    "    'Sauvignon Blanc-Semillon': 'White',\n",
    "    'Roussanne': 'White',\n",
    "    'Tempranillo-Garnacha': 'Red',\n",
    "    'Garnacha Blanca': 'White',\n",
    "    'Godello': 'White',\n",
    "    'Carricante': 'White',\n",
    "    'Cabernet Sauvignon-Shiraz': 'Red',\n",
    "    'Tinta Fina': 'Red',\n",
    "    'Lambrusco Grasparossa': 'Red',\n",
    "    'Port': 'Red',\n",
    "    'Shiraz-Viognier': 'Red',\n",
    "    'Nero di Troia': 'Red',\n",
    "    'Graciano': 'Red',\n",
    "    'Marsanne': 'White',\n",
    "    'Malbec-Cabernet Sauvignon': 'Red',\n",
    "    'Tannat': 'Red',\n",
    "    'Tempranillo-Cabernet Sauvignon': 'Red',\n",
    "    'Auxerrois': 'White',\n",
    "    'Carignane': 'Red',\n",
    "    'Cannonau': 'Red',\n",
    "    'Albana': 'White',\n",
    "    'Vidal Blanc': 'White',\n",
    "    'Rosado': 'Rosé',\n",
    "    'Tempranillo Blanco': 'Red',\n",
    "    'Traminette': 'White',\n",
    "    'Shiraz-Cabernet Sauvignon': 'Red',\n",
    "    'Trousseau': 'Red',\n",
    "    'Chasselas': 'White',\n",
    "    'Cabernet Merlot': 'Red',\n",
    "    'Friulano': 'White',\n",
    "    'Aligoté': 'White',\n",
    "    'Bobal': 'Red',\n",
    "    'Colombard': 'White',\n",
    "    'Ribolla Gialla': 'White',\n",
    "    'Touriga Nacional': 'Red',\n",
    "    'Trebbiano': 'White',\n",
    "    'Fumé Blanc': 'White',\n",
    "    'Catarratto': 'White',\n",
    "    'Counoise': 'Red',\n",
    "    'Nosiola': 'White',\n",
    "    'Carmenère': 'Red',\n",
    "    'Charbono': 'Red',\n",
    "    'Kerner': 'White',\n",
    "    'Syrah-Viognier': 'Red',\n",
    "    'Claret': 'Red',\n",
    "    'Pecorino': 'White',\n",
    "    'Verdelho': 'White',\n",
    "    'Moscatel': 'White',\n",
    "    'Gamay Noir': 'Red',\n",
    "    'Blaufränkisch': 'Red',\n",
    "    'Pallagrello Bianco': 'White',\n",
    "    'Blanc du Bois': 'White',\n",
    "    'Pinot Auxerrois': 'White',\n",
    "    'Cesanese': 'Red',\n",
    "    'Albanello': 'White',\n",
    "    'Freisa': 'Red',\n",
    "    'Corvina': 'Red',\n",
    "    'Petite Verdot': 'Red',\n",
    "    'Merlot-Malbec': 'Red',\n",
    "    'Malbec-Syrah': 'Red',\n",
    "    'Nascetta': 'White',\n",
    "    'Cabernet Blend': 'Red',\n",
    "    'Syrah-Grenache': 'Red',\n",
    "    'Syrah-Cabernet Sauvignon': 'Red',\n",
    "    'Inzolia': 'White',\n",
    "    'Mondeuse': 'Red',\n",
    "    'Malvasia': 'White',\n",
    "    'Poulsard': 'Red',\n",
    "    'Timorasso': 'White',\n",
    "    'Viura': 'White',\n",
    "    'Tocai Friulano': 'White',\n",
    "    'Shiraz-Grenache': 'Red',\n",
    "    'Grenache-Syrah': 'Red',\n",
    "    'Gros Manseng': 'White',\n",
    "    'Fer Servadou': 'Red',\n",
    "    'Manzoni': 'White',\n",
    "    'Syrah-Petit Verdot': 'Red',\n",
    "    'Shiraz-Roussanne': 'Red',\n",
    "    'Cabernet-Shiraz': 'Red',\n",
    "    'Tinto del Pais': 'Red',\n",
    "    'Souzao': 'Red',\n",
    "    'Nuragus': 'White',\n",
    "    'Pinotage': 'Red',\n",
    "    'G-S-M': 'Red',\n",
    "    'Zweigelt': 'Red',\n",
    "    'Passerina': 'White',\n",
    "    'Cabernet Franc-Merlot': 'Red',\n",
    "    'Schiava': 'Red',\n",
    "    'Ruché': 'Red',\n",
    "    'Dornfelder': 'Red',\n",
    "    'Traminer': 'White',\n",
    "    'Cabernet Sauvignon-Sangiovese': 'Red',\n",
    "    'Müller-Thurgau': 'White',\n",
    "    'Malbec-Cabernet Franc': 'Red',\n",
    "    'Jacquez': 'Red',\n",
    "    'Syrah-Mourvèdre': 'Red',\n",
    "    'Cabernet Sauvignon-Merlot': 'Red',\n",
    "    'Malbec-Cabernet': 'Red',\n",
    "    'Nerello Cappuccio': 'Red',\n",
    "    'Falanghina': 'White',\n",
    "    'Monastrell-Syrah': 'Red',\n",
    "    'Cabernet Sauvignon-Merlot': 'Red',\n",
    "    'Malbec-Cabernet': 'Red',\n",
    "    'Seyval Blanc': 'White',\n",
    "    'Pedro Ximénez': 'White',\n",
    "    'Merseguera-Sauvignon Blanc': 'White',\n",
    "    'Cabernet-Malbec': 'Red',\n",
    "    'Vignoles': 'White',\n",
    "    'Durif': 'Red',\n",
    "    'Moscato Rosa': 'White',\n",
    "    'Macabeo': 'White',\n",
    "    'Chardonnay-Semillon': 'White',\n",
    "    'Carignan': 'Red',\n",
    "    'Petit Courbu': 'White',\n",
    "    'Chardonnay-Viognier': 'White'\n",
    "}\n",
    "\n",
    "final_df['wine_color'] = final_df['variety'].map(variety_to_color)\n",
    "final_df['wine_color'] = final_df['wine_color'].fillna('Unknown')\n",
    "final_df['wine_color'].value_counts()"
   ],
   "metadata": {
    "colab": {
     "base_uri": "https://localhost:8080/",
     "height": 272
    },
    "id": "j0JgNl1OdgwT",
    "outputId": "df0467f4-be3c-4abe-894a-7557232167d2"
   },
   "execution_count": 11,
   "outputs": [
    {
     "output_type": "execute_result",
     "data": {
      "text/plain": [
       "wine_color\n",
       "Red           4176\n",
       "White         1902\n",
       "Rosé           212\n",
       "Red, White       9\n",
       "Unknown          1\n",
       "Name: count, dtype: int64"
      ],
      "text/html": [
       "<div>\n",
       "<style scoped>\n",
       "    .dataframe tbody tr th:only-of-type {\n",
       "        vertical-align: middle;\n",
       "    }\n",
       "\n",
       "    .dataframe tbody tr th {\n",
       "        vertical-align: top;\n",
       "    }\n",
       "\n",
       "    .dataframe thead th {\n",
       "        text-align: right;\n",
       "    }\n",
       "</style>\n",
       "<table border=\"1\" class=\"dataframe\">\n",
       "  <thead>\n",
       "    <tr style=\"text-align: right;\">\n",
       "      <th></th>\n",
       "      <th>count</th>\n",
       "    </tr>\n",
       "    <tr>\n",
       "      <th>wine_color</th>\n",
       "      <th></th>\n",
       "    </tr>\n",
       "  </thead>\n",
       "  <tbody>\n",
       "    <tr>\n",
       "      <th>Red</th>\n",
       "      <td>4176</td>\n",
       "    </tr>\n",
       "    <tr>\n",
       "      <th>White</th>\n",
       "      <td>1902</td>\n",
       "    </tr>\n",
       "    <tr>\n",
       "      <th>Rosé</th>\n",
       "      <td>212</td>\n",
       "    </tr>\n",
       "    <tr>\n",
       "      <th>Red, White</th>\n",
       "      <td>9</td>\n",
       "    </tr>\n",
       "    <tr>\n",
       "      <th>Unknown</th>\n",
       "      <td>1</td>\n",
       "    </tr>\n",
       "  </tbody>\n",
       "</table>\n",
       "</div><br><label><b>dtype:</b> int64</label>"
      ]
     },
     "metadata": {},
     "execution_count": 11
    }
   ]
  },
  {
   "cell_type": "code",
   "source": [
    "final_df.columns"
   ],
   "metadata": {
    "colab": {
     "base_uri": "https://localhost:8080/"
    },
    "id": "VQH1oLEoduxw",
    "outputId": "c120643e-4873-4048-b566-c2d6df15651f"
   },
   "execution_count": 12,
   "outputs": [
    {
     "output_type": "execute_result",
     "data": {
      "text/plain": [
       "Index(['Unnamed: 0.1', 'title', 'id', 'review_1', 'review_2', 'review_3',\n",
       "       'review_4', 'review_5', 'review_6', 'review_7', 'review_8', 'review_9',\n",
       "       'review_10', 'Unnamed: 0_x', 'Unnamed: 0_y', 'country', 'description',\n",
       "       'designation', 'points', 'price', 'province', 'region_1', 'region_2',\n",
       "       'taster_name', 'taster_twitter_handle', 'variety', 'winery', 'vintage',\n",
       "       'wine_color'],\n",
       "      dtype='object')"
      ]
     },
     "metadata": {},
     "execution_count": 12
    }
   ]
  },
  {
   "cell_type": "code",
   "execution_count": 14,
   "outputs": [],
   "source": [
    "final_df.drop(columns=['Unnamed: 0.1', 'Unnamed: 0_x', 'Unnamed: 0_y', ], inplace=True)"
   ],
   "metadata": {
    "id": "ntr1lUd1i0OP"
   }
  },
  {
   "cell_type": "code",
   "source": [
    "final_df.to_csv('./wine_data_final.csv', index=False)"
   ],
   "metadata": {
    "id": "yw41loyVdyX8"
   },
   "execution_count": 21,
   "outputs": []
  }
 ]
}
