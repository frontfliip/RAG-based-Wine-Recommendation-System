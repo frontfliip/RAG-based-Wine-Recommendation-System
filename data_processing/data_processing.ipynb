{
 "nbformat": 4,
 "nbformat_minor": 0,
 "metadata": {
  "colab": {
   "provenance": []
  },
  "kernelspec": {
   "name": "python3",
   "display_name": "Python 3"
  },
  "language_info": {
   "name": "python"
  }
 },
 "cells": [
  {
   "cell_type": "code",
   "source": [
    "import pandas as pd"
   ],
   "metadata": {
    "id": "gIc5GzScdI9J"
   },
   "execution_count": 2,
   "outputs": []
  },
  {
   "cell_type": "code",
   "source": [
    "df_initial = pd.read_csv(\"reviews_scraping/winemag-data-130k-v2.csv\")\n",
    "df_reviews = pd.read_csv('reviews_scraping/scraped_reviews.csv')"
   ],
   "metadata": {
    "id": "EeVKEA2jgalx"
   },
   "execution_count": null,
   "outputs": []
  },
  {
   "cell_type": "code",
   "source": [
    "df_reviews = df_reviews.drop_duplicates(subset='id', keep='first')\n",
    "print(\"Merged DataFrame shape after dropping dubs:\", df_reviews.shape)"
   ],
   "metadata": {
    "id": "JiOMKQYhgyOu"
   },
   "execution_count": null,
   "outputs": []
  },
  {
   "cell_type": "code",
   "source": [
    "final_df = df_reviews.merge(df_initial, how='left', on='title')\n",
    "final_df = final_df.drop_duplicates(subset='title', keep='first')\n",
    "print(final_df.shape)"
   ],
   "metadata": {
    "id": "YCWTEfDfg2An"
   },
   "execution_count": null,
   "outputs": []
  },
  {
   "cell_type": "code",
   "source": [
    "def extract_vintage_from_title(df, title_col='title'):\n",
    "    \"\"\"\n",
    "    Extracts a 4-digit vintage from the 'title' column of the DataFrame and creates a new column 'vintage'.\n",
    "\n",
    "    Parameters:\n",
    "        df (pd.DataFrame): The input DataFrame containing the title column.\n",
    "        title_col (str): The name of the column that contains the title (default is 'title').\n",
    "\n",
    "    Returns:\n",
    "        pd.DataFrame: The DataFrame with an added 'vintage' column containing the extracted 4-digit vintage as a numeric value.\n",
    "    \"\"\"\n",
    "\n",
    "    df['vintage'] = df[title_col].str.extract(r'(\\b\\d{4}\\b)', expand=False)\n",
    "\n",
    "    df['vintage'] = pd.to_numeric(df['vintage'], errors='coerce')\n",
    "\n",
    "    return df\n",
    "\n",
    "final_df = extract_vintage_from_title(final_df)\n",
    "final_df['vintage'].hist(bins=40)"
   ],
   "metadata": {
    "colab": {
     "base_uri": "https://localhost:8080/",
     "height": 447
    },
    "id": "tggRRR1VdRZy",
    "outputId": "1154a4b8-be9f-4091-a0f7-65bcf7638c11"
   },
   "execution_count": 6,
   "outputs": [
    {
     "output_type": "execute_result",
     "data": {
      "text/plain": [
       "<Axes: >"
      ]
     },
     "metadata": {},
     "execution_count": 6
    },
    {
     "output_type": "display_data",
     "data": {
      "text/plain": [
       "<Figure size 640x480 with 1 Axes>"
      ],
      "image/png": "[encoded data removed]"
     },
     "metadata": {}
    }
   ]
  },
  {
   "cell_type": "code",
   "source": [
    "variety_to_color = {\n",
    "    'Rosé': 'Rosé',\n",
    "    'Sangiovese': 'Red',\n",
    "    'Grüner Veltliner': 'White',\n",
    "    'Shiraz': 'Red',\n",
    "    'Pinot Noir': 'Red',\n",
    "    'Riesling': 'White',\n",
    "    'Pinot Gris': 'White',\n",
    "    'Chardonnay': 'White',\n",
    "    'Cabernet Sauvignon': 'Red',\n",
    "    'Nebbiolo': 'Red',\n",
    "    'Dolcetto': 'Red',\n",
    "    'Barbera': 'Red',\n",
    "    'Red Blend': 'Red',\n",
    "    'Zinfandel': 'Red',\n",
    "    'Torrontés': 'White',\n",
    "    'Malbec': 'Red',\n",
    "    'Pinot Grigio': 'White',\n",
    "    'Cabernet Franc': 'Red',\n",
    "    'Verdejo': 'White',\n",
    "    'Champagne Blend': 'White',\n",
    "    'Bordeaux-style Red Blend': 'Red',\n",
    "    'Gamay': 'Red',\n",
    "    'Verdicchio': 'White',\n",
    "    'Sauvignon Blanc': 'White',\n",
    "    'Gewürztraminer': 'White',\n",
    "    'Sylvaner': 'White',\n",
    "    'Fiano': 'White',\n",
    "    'Syrah': 'Red',\n",
    "    'Tempranillo': 'Red',\n",
    "    'Tempranillo Blend': 'Red',\n",
    "    'Xarel-lo': 'White',\n",
    "    'Bordeaux-style White Blend': 'White',\n",
    "    'Viognier': 'White',\n",
    "    'Rosato': 'Rosé',\n",
    "    'Sparkling Blend': 'White',\n",
    "    'Petite Sirah': 'Red',\n",
    "    'Melon': 'White',\n",
    "    'Pinot Nero': 'Red',\n",
    "    'Grillo': 'White',\n",
    "    'White Blend': 'White',\n",
    "    'Teroldego': 'Red',\n",
    "    'Shiraz-Cabernet Sauvignon': 'Red',\n",
    "    'Petit Manseng': 'White',\n",
    "    'Chenin Blanc': 'White',\n",
    "    \"Nero d'Avola\": 'Red',\n",
    "    'Sauvignon Blanc-Semillon': 'White',\n",
    "    'Meritage': 'Red',\n",
    "    'Garnacha': 'Red',\n",
    "    'Turbiana': 'White',\n",
    "    'Pinot Bianco': 'White',\n",
    "    'Merlot': 'Red',\n",
    "    'Montepulciano': 'Red',\n",
    "    'Albariño': 'White',\n",
    "    'Petit Verdot': 'Red',\n",
    "    'Traminette': 'White',\n",
    "    'Cesanese': 'Red',\n",
    "    'Sémillon': 'White',\n",
    "    'Garganega': 'White',\n",
    "    'Lagrein': 'Red',\n",
    "    'Aglianico': 'Red',\n",
    "    'Grenache': 'Red',\n",
    "    'Mencía': 'Red',\n",
    "    'Cabernet Merlot': 'Red',\n",
    "    'Roussanne': 'White',\n",
    "    'Pinot Blanc': 'White',\n",
    "    'Moscato': 'White',\n",
    "    'Albanello': 'White',\n",
    "    'Friulano': 'White',\n",
    "    'Sauvignon': 'White',\n",
    "    'Bonarda': 'Red',\n",
    "    'Tinta de Toro': 'Red',\n",
    "    'Cabernet Blend': 'Red',\n",
    "    'Vermentino': 'White',\n",
    "    'Albana': 'White',\n",
    "    'Garnacha Blanca': 'White',\n",
    "    'Pecorino': 'White',\n",
    "    'Tinto Fino': 'Red',\n",
    "    'Primitivo': 'Red',\n",
    "    'Vidal Blanc': 'White',\n",
    "    'Nascetta': 'White',\n",
    "    'Claret': 'Red',\n",
    "    'Mourvèdre': 'Red',\n",
    "    'Malbec-Syrah': 'Red',\n",
    "    'Glera': 'White',\n",
    "    'Merlot-Malbec': 'Red',\n",
    "    'Cinsault': 'Red',\n",
    "    'Syrah-Viognier': 'Red',\n",
    "    'Tempranillo-Cabernet Sauvignon': 'Red',\n",
    "    'Grenache Blanc': 'White',\n",
    "    'Kerner': 'White',\n",
    "    'Lambrusco Grasparossa': 'Red',\n",
    "    'Syrah-Grenache': 'Red',\n",
    "    'Gamay Noir': 'Red',\n",
    "    'Greco': 'White',\n",
    "    'Verdelho': 'White',\n",
    "    'Vernaccia': 'White',\n",
    "    'Arneis': 'White',\n",
    "    'Inzolia': 'White',\n",
    "    'Rhône-style Red Blend': 'Red',\n",
    "    'Blaufränkisch': 'Red',\n",
    "    'Mondeuse': 'Red',\n",
    "    'Moscatel': 'White',\n",
    "    'Muscat': 'White',\n",
    "    'Sagrantino': 'Red',\n",
    "    'Marsanne': 'White',\n",
    "    'Gros and Petit Manseng': 'White',\n",
    "    'Lambrusco di Sorbara': 'Red',\n",
    "    'Graciano': 'Red',\n",
    "    'Freisa': 'Red',\n",
    "    'Auxerrois': 'White',\n",
    "    'Nero di Troia': 'Red',\n",
    "    'Syrah-Cabernet Sauvignon': 'Red',\n",
    "    'Aligoté': 'White',\n",
    "    'Bobal': 'Red',\n",
    "    'Colombard': 'White',\n",
    "    'Tannat': 'Red',\n",
    "    'Carmenère': 'Red',\n",
    "    'Fumé Blanc': 'White',\n",
    "    'Port': 'Red',\n",
    "    'Malbec-Cabernet Sauvignon': 'Red',\n",
    "    'Negroamaro': 'Red',\n",
    "    'Touriga Nacional': 'Red',\n",
    "    'Cortese': 'White',\n",
    "    'Corvina': 'Red',\n",
    "    'Monastrell': 'Red',\n",
    "    'Petite Verdot': 'Red',\n",
    "    'Tinta Fina': 'Red',\n",
    "    'Shiraz-Viognier': 'Red',\n",
    "    'Poulsard': 'Red',\n",
    "    'Trebbiano': 'White',\n",
    "    'Charbono': 'Red',\n",
    "    'Ribolla Gialla': 'White',\n",
    "    'Malvasia': 'White',\n",
    "    'Cabernet Sauvignon-Shiraz': 'Red',\n",
    "    'Tocai Friulano': 'White',\n",
    "    'Carignane': 'Red',\n",
    "    'Rhône-style White Blend': 'White',\n",
    "    'Tempranillo-Garnacha': 'Red',\n",
    "    'Tinto del Pais': 'Red',\n",
    "    'Chasselas': 'White',\n",
    "    'Nuragus': 'White',\n",
    "    'Viura': 'White',\n",
    "    'Grenache-Syrah': 'Red',\n",
    "    'Frappato': 'Red',\n",
    "    'Nerello Mascalese': 'Red',\n",
    "    'Blanc du Bois': 'White',\n",
    "    'Trousseau': 'Red',\n",
    "    'Shiraz-Grenache': 'Red',\n",
    "    'Timorasso': 'White',\n",
    "    'Nosiola': 'White',\n",
    "    'Gros Manseng': 'White',\n",
    "    'Syrah-Petit Verdot': 'Red',\n",
    "    'Souzao': 'Red',\n",
    "    'Cannonau': 'Red',\n",
    "    'Catarratto': 'White',\n",
    "    'Manzoni': 'White',\n",
    "    'Pallagrello Bianco': 'White',\n",
    "    'Fer Servadou': 'Red',\n",
    "    'Counoise': 'Red',\n",
    "    'Shiraz-Roussanne': 'Red',\n",
    "    'Zweigelt': 'Red',\n",
    "    'Cabernet-Shiraz': 'Red',\n",
    "    'G-S-M': 'Red'\n",
    "}\n",
    "\n",
    "final_df['wine_color'] = final_df['variety'].map(variety_to_color)\n",
    "final_df['wine_color'] = final_df['wine_color'].fillna('Unknown')\n",
    "final_df['wine_color'].value_counts()"
   ],
   "metadata": {
    "colab": {
     "base_uri": "https://localhost:8080/",
     "height": 209
    },
    "id": "j0JgNl1OdgwT",
    "outputId": "4e9f6312-4c02-49e5-ac2b-2770ffed7e04"
   },
   "execution_count": 7,
   "outputs": [
    {
     "output_type": "execute_result",
     "data": {
      "text/plain": [
       "wine_color\n",
       "Red      2732\n",
       "White    1226\n",
       "Rosé      134\n",
       "Name: count, dtype: int64"
      ],
      "text/html": [
       "<div>\n",
       "<style scoped>\n",
       "    .dataframe tbody tr th:only-of-type {\n",
       "        vertical-align: middle;\n",
       "    }\n",
       "\n",
       "    .dataframe tbody tr th {\n",
       "        vertical-align: top;\n",
       "    }\n",
       "\n",
       "    .dataframe thead th {\n",
       "        text-align: right;\n",
       "    }\n",
       "</style>\n",
       "<table border=\"1\" class=\"dataframe\">\n",
       "  <thead>\n",
       "    <tr style=\"text-align: right;\">\n",
       "      <th></th>\n",
       "      <th>count</th>\n",
       "    </tr>\n",
       "    <tr>\n",
       "      <th>wine_color</th>\n",
       "      <th></th>\n",
       "    </tr>\n",
       "  </thead>\n",
       "  <tbody>\n",
       "    <tr>\n",
       "      <th>Red</th>\n",
       "      <td>2732</td>\n",
       "    </tr>\n",
       "    <tr>\n",
       "      <th>White</th>\n",
       "      <td>1226</td>\n",
       "    </tr>\n",
       "    <tr>\n",
       "      <th>Rosé</th>\n",
       "      <td>134</td>\n",
       "    </tr>\n",
       "  </tbody>\n",
       "</table>\n",
       "</div><br><label><b>dtype:</b> int64</label>"
      ]
     },
     "metadata": {},
     "execution_count": 7
    }
   ]
  },
  {
   "cell_type": "code",
   "source": [
    "final_df.columns"
   ],
   "metadata": {
    "colab": {
     "base_uri": "https://localhost:8080/"
    },
    "id": "VQH1oLEoduxw",
    "outputId": "9c99e667-109d-44ce-f044-cd6308b43e2b"
   },
   "execution_count": 9,
   "outputs": [
    {
     "output_type": "execute_result",
     "data": {
      "text/plain": [
       "Index(['Unnamed: 0', 'title', 'id', 'review_1', 'review_2', 'review_3',\n",
       "       'review_4', 'review_5', 'review_6', 'review_7', 'review_8', 'review_9',\n",
       "       'review_10', 'Unnamed: 0_x', 'Unnamed: 0_y', 'country', 'description',\n",
       "       'designation', 'points', 'price', 'province', 'region_1', 'region_2',\n",
       "       'taster_name', 'taster_twitter_handle', 'variety', 'winery',\n",
       "       'matched_title', 'wine_full', 'top100_year', 'color', 'top100_rank',\n",
       "       'vintage', 'wine_color'],\n",
       "      dtype='object')"
      ]
     },
     "metadata": {},
     "execution_count": 9
    }
   ]
  },
  {
   "cell_type": "code",
   "source": [
    "final_df.to_csv('./wines_data_final_processed.csv')"
   ],
   "metadata": {
    "id": "yw41loyVdyX8"
   },
   "execution_count": 10,
   "outputs": []
  }
 ]
}
